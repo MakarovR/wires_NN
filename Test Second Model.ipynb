{
 "cells": [
  {
   "cell_type": "markdown",
   "id": "2be13be4",
   "metadata": {},
   "source": [
    "# Данные:\n",
    "\n",
    "Входные данные: \n",
    "\n",
    "`Столбцы PX-PZ, QA-QG, имена столбцов (I1a, I1b, I1c, Iz, Ip, In, KdIa,  KdIb, KdIc, KdI)`\n",
    "\n",
    "Выходные:\n",
    "\n",
    "`Столбец VS, имя столбца OZZ`"
   ]
  },
  {
   "cell_type": "code",
   "execution_count": 1,
   "id": "4235eb05",
   "metadata": {},
   "outputs": [],
   "source": [
    "import pandas as pd\n",
    "import tensorflow as tf\n",
    "import numpy as np\n",
    "from test_model import *"
   ]
  },
  {
   "cell_type": "code",
   "execution_count": 2,
   "id": "3bbb2b5e",
   "metadata": {},
   "outputs": [
    {
     "name": "stdout",
     "output_type": "stream",
     "text": [
      "4/4 [==============================] - 0s 1ms/step\n"
     ]
    }
   ],
   "source": [
    "h5_model = read_model_h5(\"test_second_normalized.h5\")\n",
    "x_data, y_data = read_second_normalized_data(\"data/splitted/cropped/cropped_csv/test_second_normalized.csv\")\n",
    "prediction_result = run_predictions(x_data, h5_model)"
   ]
  },
  {
   "cell_type": "code",
   "execution_count": 3,
   "id": "2b440c95",
   "metadata": {},
   "outputs": [
    {
     "name": "stdout",
     "output_type": "stream",
     "text": [
      "Predicted: 0.0; True: 0.0\n",
      "Predicted: 0.0; True: 0.0\n",
      "Predicted: 0.0; True: 0.0\n",
      "Predicted: 0.0; True: 0.0\n",
      "Predicted: 3.65; True: 3.64\n",
      "Predicted: 3.64; True: 3.64\n",
      "Predicted: 0.0; True: 0.0\n",
      "Predicted: 0.0; True: 0.0\n",
      "Predicted: 0.0; True: 0.0\n",
      "Predicted: 0.0; True: 0.0\n",
      "Predicted: 0.0; True: 0.0\n",
      "Predicted: 0.0; True: 0.0\n",
      "Predicted: 0.0; True: 0.0\n",
      "Predicted: 0.0; True: 0.0\n",
      "Predicted: 0.0; True: 0.0\n",
      "Predicted: 0.0; True: 0.0\n",
      "Predicted: 0.0; True: 0.0\n",
      "Predicted: 0.0; True: 0.0\n",
      "Predicted: 0.0; True: 0.0\n",
      "Predicted: 0.0; True: 0.0\n",
      "Predicted: 3.64; True: 3.64\n",
      "Predicted: 0.0; True: 0.0\n",
      "Predicted: 0.0; True: 0.0\n",
      "Predicted: 0.0; True: 0.0\n",
      "Predicted: 0.0; True: 0.0\n",
      "Predicted: 0.0; True: 0.0\n",
      "Predicted: 0.0; True: 0.0\n",
      "Predicted: 0.0; True: 0.0\n",
      "Predicted: 0.0; True: 0.0\n",
      "Predicted: 0.0; True: 0.0\n",
      "Predicted: 0.0; True: 0.0\n",
      "Predicted: 0.0; True: 0.0\n",
      "Predicted: 0.0; True: 0.0\n",
      "Predicted: 0.0; True: 0.0\n",
      "Predicted: 0.0; True: 0.0\n",
      "Predicted: 0.0; True: 0.0\n",
      "Predicted: 0.0; True: 0.0\n",
      "Predicted: 0.0; True: 0.0\n",
      "Predicted: 0.0; True: 0.0\n",
      "Predicted: 0.0; True: 0.0\n",
      "Predicted: 0.0; True: 0.0\n",
      "Predicted: 0.0; True: 0.0\n",
      "Predicted: 0.0; True: 0.0\n",
      "Predicted: 0.0; True: 0.0\n",
      "Predicted: 0.0; True: 0.0\n",
      "Predicted: 0.0; True: 0.0\n",
      "Predicted: 0.0; True: 0.0\n",
      "Predicted: 0.0; True: 0.0\n",
      "Predicted: 0.0; True: 0.0\n",
      "Predicted: 0.0; True: 0.0\n",
      "Predicted: 0.0; True: 0.0\n",
      "Predicted: 0.0; True: 0.0\n",
      "Predicted: 0.0; True: 0.0\n",
      "Predicted: 0.0; True: 0.0\n",
      "Predicted: 0.0; True: 0.0\n",
      "Predicted: 0.0; True: 0.0\n",
      "Predicted: 0.0; True: 0.0\n",
      "Predicted: 0.0; True: 0.0\n",
      "Predicted: 0.0; True: 0.0\n",
      "Predicted: 0.0; True: 0.0\n",
      "Predicted: 0.0; True: 0.0\n",
      "Predicted: 0.0; True: 0.0\n",
      "Predicted: 0.0; True: 0.0\n",
      "Predicted: 1.68; True: 1.69\n",
      "Predicted: 1.69; True: 1.69\n",
      "Predicted: 1.69; True: 1.69\n",
      "Predicted: 0.0; True: 0.0\n",
      "Predicted: 0.0; True: 0.0\n",
      "Predicted: 0.0; True: 0.0\n",
      "Predicted: 0.0; True: 0.0\n",
      "Predicted: 5.11; True: 5.11\n",
      "Predicted: 5.12; True: 5.11\n",
      "Predicted: 5.12; True: 5.11\n",
      "Predicted: 0.0; True: 0.0\n",
      "Predicted: 0.0; True: 0.0\n",
      "Predicted: 5.13; True: 5.11\n",
      "Predicted: 5.13; True: 5.11\n",
      "Predicted: 5.13; True: 5.11\n",
      "Predicted: 0.0; True: 0.0\n",
      "Predicted: 0.0; True: 0.0\n",
      "Predicted: 0.0; True: 0.0\n",
      "Predicted: 6.45; True: 6.44\n",
      "Predicted: 6.46; True: 6.44\n",
      "Predicted: 6.44; True: 6.44\n",
      "Predicted: 6.43; True: 6.44\n",
      "Predicted: 8.82; True: 8.82\n",
      "Predicted: 8.82; True: 8.82\n",
      "Predicted: 8.82; True: 8.82\n",
      "Predicted: 8.82; True: 8.82\n",
      "Predicted: 0.0; True: 0.0\n",
      "Predicted: 0.0; True: 0.0\n",
      "Predicted: 0.0; True: 0.0\n",
      "Predicted: 0.0; True: 0.0\n",
      "Predicted: 0.0; True: 0.0\n",
      "Predicted: 8.82; True: 8.82\n",
      "Predicted: 8.82; True: 8.82\n",
      "Predicted: 8.82; True: 8.82\n",
      "Predicted: 0.0; True: 0.0\n",
      "Predicted: 0.0; True: 0.0\n",
      "Predicted: 8.81; True: 8.82\n"
     ]
    }
   ],
   "source": [
    "processed_result = predictions_processing(prediction_result)\n",
    "print_predicted_and_true_data(processed_result, y_data)"
   ]
  },
  {
   "cell_type": "code",
   "execution_count": 4,
   "id": "fbcf7d0f",
   "metadata": {},
   "outputs": [
    {
     "name": "stdout",
     "output_type": "stream",
     "text": [
      "MAE: 0.0015\n"
     ]
    }
   ],
   "source": [
    "MAE(processed_result, y_data)"
   ]
  },
  {
   "cell_type": "code",
   "execution_count": null,
   "id": "b3087abc",
   "metadata": {},
   "outputs": [],
   "source": []
  }
 ],
 "metadata": {
  "kernelspec": {
   "display_name": "Python 3 (ipykernel)",
   "language": "python",
   "name": "python3"
  },
  "language_info": {
   "codemirror_mode": {
    "name": "ipython",
    "version": 3
   },
   "file_extension": ".py",
   "mimetype": "text/x-python",
   "name": "python",
   "nbconvert_exporter": "python",
   "pygments_lexer": "ipython3",
   "version": "3.11.3"
  }
 },
 "nbformat": 4,
 "nbformat_minor": 5
}
